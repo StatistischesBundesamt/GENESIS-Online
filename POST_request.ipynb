{
 "cells": [
  {
   "cell_type": "markdown",
   "metadata": {},
   "source": [
    "## Genesis API: Änderungen zum 30. Juni 2025\n",
    "Zur Verbesserung des Schutzes Ihrer Nutzerdaten, wird die bisher angebotene Möglichkeit der API Nutzung mittels `GET` Requests am 30. Juni 2025 endgültig abgeschaltet. Nach diesem Termin ist die Genesis-API ausschließlich mit der `POST` Methode erreichbar. Dabei werden die Zugangsdaten im Header der Anfrage gesendet und können damit nicht in Logfiles gelangen oder beim Transport abgegriffen werden.  \n",
    "Um Sie bei der Umstellung zu unterstützen, zeigen wir im Folgenden lauffähige Code-Beispiele, die die POST Methode verwenden, beginnend mit der Programmiersprache **Python** und dem Statistik-Paket **Pandas**. "
   ]
  },
  {
   "cell_type": "code",
   "execution_count": 54,
   "metadata": {},
   "outputs": [],
   "source": [
    "import requests\n",
    "import pandas as pd\n",
    "import io\n",
    "import zipfile"
   ]
  },
  {
   "cell_type": "markdown",
   "metadata": {},
   "source": [
    "Wir empfehlen im Folgenden zur Identifizierung gegenüber dem Webservice den **API Token**. Diese Zeichenkette finden Sie nach dem Login im Menü [Webservice-Schnittstelle (API)](https://www-genesis.destatis.de/datenbank/online#modal=web-service-api). Er lässt sich unabhängig von Ihren Zugangsdaten zurücksetzen und bietet Ihnen damit mehr Kontrolle bei gemeinsam genutzten Projekten, in Schulungsumgebungen usw. Ebenfalls enthält der Token keine Zeichen, die ggf. maskiert werden müssten und ist somit in der Anwendung weniger fehleranfällig.  \n",
    "Allerdings sind nach einer Identifizierung mit Token keine schreibenden Zugriffe möglich. Dies ist zum einen die Änderung des Passworts per API oder eine Tabellenabfrage, die aufgrund ihrer Größe in eine Warteschlange oder Batch geschrieben wird (`job=true`). Solche schreibenden Zugriffe müssen mittels Nutzername/ E-Mail und Passwort identifiziert werden. Die hier beschriebenen Programmbeispiele können für beide Identifizierungsarten genutzt werden.  \n",
    "Sollten Sie noch keine Zugangsdaten für die Genesis Datenbank haben, können Sie sich einfach und kostenfrei [registrieren](https://www-genesis.destatis.de/datenbank/online#modal=register)."
   ]
  },
  {
   "cell_type": "code",
   "execution_count": 66,
   "metadata": {},
   "outputs": [],
   "source": [
    "BASE_URL = 'https://www-genesis.destatis.de/genesisWS/rest/2020/'\n",
    "\n",
    "TOKEN = \"58b3_IHREN_TOKEN_EINFÜGEN_e6d032\""
   ]
  },
  {
   "cell_type": "markdown",
   "metadata": {},
   "source": [
    "Unabhängig von der Art der verwendeten Zugangsdaten müssen diese im request header einer POST Anfrage mit dem `'Content-Type': 'application/x-www-form-urlencoded'` übermittelt werden."
   ]
  },
  {
   "cell_type": "code",
   "execution_count": 5,
   "metadata": {
    "editable": true,
    "slideshow": {
     "slide_type": ""
    },
    "tags": []
   },
   "outputs": [],
   "source": [
    "headers = {\n",
    "    'Content-Type': 'application/x-www-form-urlencoded',\n",
    "    'username': TOKEN,\n",
    "    'password': \"\"\n",
    "    }\n",
    "\n",
    "langPref = \"de\""
   ]
  },
  {
   "cell_type": "markdown",
   "metadata": {},
   "source": [
    "### Zugangsdaten und API-Verfügbarkeit testen (optional)\n",
    "Es ist hilfreich, zunächst die Zugangsdaten sowie die Verbindung zur API zu testen. Dies ist zugleich die einfachste Methode, bei der als Parameter – neben der Identifizierung – lediglich die gewünschte Sprache (de|en) übergeben wird."
   ]
  },
  {
   "cell_type": "code",
   "execution_count": 6,
   "metadata": {},
   "outputs": [],
   "source": [
    "hello = requests.post(BASE_URL + 'helloworld/logincheck', \n",
    "    headers = headers,\n",
    "    data = {\n",
    "    'language': langPref\n",
    "    })"
   ]
  },
  {
   "cell_type": "code",
   "execution_count": 69,
   "metadata": {},
   "outputs": [
    {
     "data": {
      "text/plain": [
       "'{\"Status\":\"Sie wurden erfolgreich an- und abgemeldet! Bei mehr als 3 parallelen Requests wurden länger als 15 Minuten laufende Requests beendet.\",\"Username\"'"
      ]
     },
     "execution_count": 69,
     "metadata": {},
     "output_type": "execute_result"
    }
   ],
   "source": [
    "hello.text[:-36]"
   ]
  },
  {
   "attachments": {},
   "cell_type": "markdown",
   "metadata": {},
   "source": [
    "### Download einer einzelnen Tabelle im Excel-Format\n",
    "Als Beispiel sollen einzelne COICOP-5-Steller (`CC13A5`) des monatlichen Verbraucherpreisindex abgerufen werden, und zwar alle, die zu `CC13-071 Kauf von Fahrzeugen` gehören.  \n",
    "Eine Dokumentation des gesamten Funktionsumfangs der API finden Sie in der [sprachliche Schnittstellenbeschreibung](https://www-genesis.destatis.de/datenbank/online/docs/GENESIS-Webservices_Einfuehrung.pdf) (PDF, 899kB)"
   ]
  },
  {
   "cell_type": "code",
   "execution_count": 24,
   "metadata": {},
   "outputs": [],
   "source": [
    "responseTable = requests.post(BASE_URL + 'data/tablefile',\n",
    "    headers = headers,\n",
    "    data = {\n",
    "    'name': '61111-0004',\n",
    "    'startyear': 2025,\n",
    "    'transpose': \"true\",\n",
    "    'classifyingvariable1': \"CC13A5\",\n",
    "    'classifyingkey1': \"CC13-071*\",\n",
    "    'compress': 'true',\n",
    "    'format': 'xlsx',\n",
    "    'language': langPref\n",
    "    })"
   ]
  },
  {
   "cell_type": "markdown",
   "metadata": {},
   "source": [
    "### Abspeichern der Datei, sofern der Abruf erfolgreich war"
   ]
  },
  {
   "cell_type": "code",
   "execution_count": 27,
   "metadata": {},
   "outputs": [],
   "source": [
    "if responseTable.status_code == 200:\n",
    "    with open(\"table.xlsx\", \"wb\") as f:\n",
    "        f.write(responseTable.content)\n",
    "else:\n",
    "    print(\"Antwort-Code: \"+(responseTable.status_code))"
   ]
  },
  {
   "cell_type": "markdown",
   "metadata": {},
   "source": [
    "## Umgang mit großen Tabellen\n",
    "Tabellen mit mehr als 40.000 Werten (Stand 24. März 2025) können per API nicht im Dialog direkt heruntergeladen werden. Entweder muss die Anfrage in eine Warteschlange (`job=true`) geschickt und später mit `resultfile` abgeholt werden oder man splittet die Anfrage auf.  \n",
    "Das Beispiel der monatlichen COICOP-10-Steller auf Basis von 2020 überschreitet diese Grenze bereits Anfang 2025:"
   ]
  },
  {
   "cell_type": "code",
   "execution_count": 47,
   "metadata": {},
   "outputs": [
    {
     "name": "stdout",
     "output_type": "stream",
     "text": [
      "{\"Ident\":{\"Service\":\"data\",\"Method\":\"tablefile\"},\"Status\":{\"Code\":98,\"Content\":\"Die Tabelle ist zu gross, um im Dialog a\n"
     ]
    }
   ],
   "source": [
    "response = requests.post(BASE_URL + 'data/tablefile',\n",
    "    headers = headers,\n",
    "    data = {\n",
    "    'name': '61111-0006',\n",
    "    'startyear': 2020,\n",
    "    \"classifyingvariable1\": \"CC13Z1\",\n",
    "    'compress': 'true',\n",
    "    'format': 'ffcsv',\n",
    "    'language': langPref\n",
    "})\n",
    "# prüfe, ob die Antwort Text, binär oder leer ist\n",
    "print(response.text[0:120])"
   ]
  },
  {
   "cell_type": "markdown",
   "metadata": {},
   "source": [
    "#### Aufteilung in zwei Tabellen entlang der Zeitachse\n",
    "Für die Weiterverarbeitung in Pandas ist das Flatfile-csv-Format (`ffcsv`) das Mittel der Wahl. Diese Dateien können einfach hintereinander zusammengeführt werden. In vielen Fällen entspricht die Zahl der Zeilen der Werteanzahl. Im folgenden Beispiel werden zuerst die Werte für Januar 2020 bis Dezember 2023 abgerufen, danach der aktuelle Rand (Januar 2024 und später)."
   ]
  },
  {
   "cell_type": "code",
   "execution_count": null,
   "metadata": {},
   "outputs": [],
   "source": [
    "response1 = requests.post(BASE_URL + 'data/tablefile',\n",
    "    headers = headers,\n",
    "    data = {\n",
    "    'name': '61111-0006',\n",
    "    'startyear': 2020,\n",
    "    'endyear': 2023,\n",
    "    \"classifyingvariable1\": \"CC13Z1\",\n",
    "    'compress': 'true',\n",
    "    'format': 'ffcsv',\n",
    "    'language': langPref\n",
    "})"
   ]
  },
  {
   "cell_type": "code",
   "execution_count": null,
   "metadata": {},
   "outputs": [],
   "source": [
    "response2 = requests.post(BASE_URL + 'data/tablefile',\n",
    "    headers = headers,\n",
    "    data = {\n",
    "    'name': '61111-0006',\n",
    "    'startyear': 2024,\n",
    "    \"classifyingvariable1\": \"CC13Z1\",\n",
    "    'compress': 'true',\n",
    "    'format': 'ffcsv',\n",
    "    'language': langPref\n",
    "})"
   ]
  },
  {
   "cell_type": "markdown",
   "metadata": {},
   "source": [
    "#### Gezippte Datei-Antwort direkt einlesen ohne abzuspeichern\n",
    "Genesis-Online liefert csv- und ffcsv-Dateien gezippt aus, wobei jedes ZIP-Archiv genau eine csv-Datei enthält.  \n",
    "Beispielhaft wird hier die direkte Verarbeitung aus dem Arbeitsspeicher gezeigt:"
   ]
  },
  {
   "cell_type": "code",
   "execution_count": 57,
   "metadata": {},
   "outputs": [],
   "source": [
    "def csvUnZip(response):\n",
    "    filebytes = io.BytesIO(response.content)\n",
    "    zipFile = zipfile.ZipFile(filebytes)\n",
    "    csvFile = zipFile.open(zipFile.namelist()[0])\n",
    "    return csvFile"
   ]
  },
  {
   "cell_type": "markdown",
   "metadata": {},
   "source": [
    "#### Parameter zum Einlesen für die deutschsprachige Variante der ffcsv-Dateien"
   ]
  },
  {
   "cell_type": "code",
   "execution_count": 58,
   "metadata": {},
   "outputs": [],
   "source": [
    "def readCsv(csvFile):\n",
    "    df = pd.read_csv(csvFile, delimiter=';', decimal=\",\", na_values=[\"...\",\".\",\"-\",\"/\",\"x\"])\n",
    "    return df"
   ]
  },
  {
   "cell_type": "markdown",
   "metadata": {},
   "source": [
    "#### Zusammenführen der beiden tablefile Antworten"
   ]
  },
  {
   "cell_type": "code",
   "execution_count": 70,
   "metadata": {},
   "outputs": [
    {
     "data": {
      "text/html": [
       "<div>\n",
       "<style scoped>\n",
       "    .dataframe tbody tr th:only-of-type {\n",
       "        vertical-align: middle;\n",
       "    }\n",
       "\n",
       "    .dataframe tbody tr th {\n",
       "        vertical-align: top;\n",
       "    }\n",
       "\n",
       "    .dataframe thead th {\n",
       "        text-align: right;\n",
       "    }\n",
       "</style>\n",
       "<table border=\"1\" class=\"dataframe\">\n",
       "  <thead>\n",
       "    <tr style=\"text-align: right;\">\n",
       "      <th></th>\n",
       "      <th>statistics_label</th>\n",
       "      <th>time</th>\n",
       "      <th>1_variable_attribute_label</th>\n",
       "      <th>3_variable_attribute_label</th>\n",
       "      <th>value</th>\n",
       "    </tr>\n",
       "  </thead>\n",
       "  <tbody>\n",
       "    <tr>\n",
       "      <th>21299</th>\n",
       "      <td>Verbraucherpreisindex für Deutschland</td>\n",
       "      <td>2020</td>\n",
       "      <td>Januar</td>\n",
       "      <td>Reis</td>\n",
       "      <td>99.6</td>\n",
       "    </tr>\n",
       "    <tr>\n",
       "      <th>29259</th>\n",
       "      <td>Verbraucherpreisindex für Deutschland</td>\n",
       "      <td>2020</td>\n",
       "      <td>Januar</td>\n",
       "      <td>Reiszubereitung</td>\n",
       "      <td>100.0</td>\n",
       "    </tr>\n",
       "    <tr>\n",
       "      <th>5864</th>\n",
       "      <td>Verbraucherpreisindex für Deutschland</td>\n",
       "      <td>2020</td>\n",
       "      <td>Januar</td>\n",
       "      <td>Weizenmehl</td>\n",
       "      <td>100.9</td>\n",
       "    </tr>\n",
       "    <tr>\n",
       "      <th>15401</th>\n",
       "      <td>Verbraucherpreisindex für Deutschland</td>\n",
       "      <td>2020</td>\n",
       "      <td>Januar</td>\n",
       "      <td>Grieß, Roggenmehl oder Ähnliches</td>\n",
       "      <td>101.3</td>\n",
       "    </tr>\n",
       "    <tr>\n",
       "      <th>1352</th>\n",
       "      <td>Verbraucherpreisindex für Deutschland</td>\n",
       "      <td>2020</td>\n",
       "      <td>Januar</td>\n",
       "      <td>Weißbrot</td>\n",
       "      <td>101.0</td>\n",
       "    </tr>\n",
       "    <tr>\n",
       "      <th>...</th>\n",
       "      <td>...</td>\n",
       "      <td>...</td>\n",
       "      <td>...</td>\n",
       "      <td>...</td>\n",
       "      <td>...</td>\n",
       "    </tr>\n",
       "    <tr>\n",
       "      <th>5042</th>\n",
       "      <td>Verbraucherpreisindex für Deutschland</td>\n",
       "      <td>2025</td>\n",
       "      <td>Februar</td>\n",
       "      <td>Passgebühr oder Ähnliches</td>\n",
       "      <td>120.7</td>\n",
       "    </tr>\n",
       "    <tr>\n",
       "      <th>4515</th>\n",
       "      <td>Verbraucherpreisindex für Deutschland</td>\n",
       "      <td>2025</td>\n",
       "      <td>Februar</td>\n",
       "      <td>Rechtsanwaltsgebühr oder Notargebühr</td>\n",
       "      <td>117.4</td>\n",
       "    </tr>\n",
       "    <tr>\n",
       "      <th>3584</th>\n",
       "      <td>Verbraucherpreisindex für Deutschland</td>\n",
       "      <td>2025</td>\n",
       "      <td>Februar</td>\n",
       "      <td>Bestattungsleistungen und Friedhofsgebühr</td>\n",
       "      <td>120.8</td>\n",
       "    </tr>\n",
       "    <tr>\n",
       "      <th>1652</th>\n",
       "      <td>Verbraucherpreisindex für Deutschland</td>\n",
       "      <td>2025</td>\n",
       "      <td>Februar</td>\n",
       "      <td>Kleinanzeige in einer Zeitung</td>\n",
       "      <td>119.2</td>\n",
       "    </tr>\n",
       "    <tr>\n",
       "      <th>8143</th>\n",
       "      <td>Verbraucherpreisindex für Deutschland</td>\n",
       "      <td>2025</td>\n",
       "      <td>Februar</td>\n",
       "      <td>Kurtaxe</td>\n",
       "      <td>107.9</td>\n",
       "    </tr>\n",
       "  </tbody>\n",
       "</table>\n",
       "<p>42594 rows × 5 columns</p>\n",
       "</div>"
      ],
      "text/plain": [
       "                            statistics_label  time 1_variable_attribute_label  \\\n",
       "21299  Verbraucherpreisindex für Deutschland  2020                     Januar   \n",
       "29259  Verbraucherpreisindex für Deutschland  2020                     Januar   \n",
       "5864   Verbraucherpreisindex für Deutschland  2020                     Januar   \n",
       "15401  Verbraucherpreisindex für Deutschland  2020                     Januar   \n",
       "1352   Verbraucherpreisindex für Deutschland  2020                     Januar   \n",
       "...                                      ...   ...                        ...   \n",
       "5042   Verbraucherpreisindex für Deutschland  2025                    Februar   \n",
       "4515   Verbraucherpreisindex für Deutschland  2025                    Februar   \n",
       "3584   Verbraucherpreisindex für Deutschland  2025                    Februar   \n",
       "1652   Verbraucherpreisindex für Deutschland  2025                    Februar   \n",
       "8143   Verbraucherpreisindex für Deutschland  2025                    Februar   \n",
       "\n",
       "                      3_variable_attribute_label  value  \n",
       "21299                                       Reis   99.6  \n",
       "29259                            Reiszubereitung  100.0  \n",
       "5864                                  Weizenmehl  100.9  \n",
       "15401           Grieß, Roggenmehl oder Ähnliches  101.3  \n",
       "1352                                    Weißbrot  101.0  \n",
       "...                                          ...    ...  \n",
       "5042                   Passgebühr oder Ähnliches  120.7  \n",
       "4515        Rechtsanwaltsgebühr oder Notargebühr  117.4  \n",
       "3584   Bestattungsleistungen und Friedhofsgebühr  120.8  \n",
       "1652               Kleinanzeige in einer Zeitung  119.2  \n",
       "8143                                     Kurtaxe  107.9  \n",
       "\n",
       "[42594 rows x 5 columns]"
      ]
     },
     "execution_count": 70,
     "metadata": {},
     "output_type": "execute_result"
    }
   ],
   "source": [
    "df_combined = pd.concat([readCsv(csvUnZip(response1)),readCsv(csvUnZip(response2))])\\\n",
    "                .sort_values(by=[\"time\",\"1_variable_attribute_code\",\"3_variable_attribute_code\"])\n",
    "\n",
    "df_combined[[\"statistics_label\",\"time\",\"1_variable_attribute_label\",\"3_variable_attribute_label\",\"value\"]]"
   ]
  },
  {
   "cell_type": "markdown",
   "metadata": {},
   "source": [
    "### Auftrag erstellen und abholen\n",
    "Bei sehr großen Tabellen ist der Abruf über eine Warteschlange (Batch) erforderlich. \n",
    "Hierzu ist `data/tablefile` mit dem Parameter `job=true` aufzurufen. \n",
    "Nach einigen Minuten kann über `catalogue/results` der Bearbeitungsstand der angeforderten Ergebnistabelle abgefragt\n",
    "und schließlich mit `data/resultfile` heruntergeladen werden."
   ]
  },
  {
   "cell_type": "markdown",
   "metadata": {},
   "source": [
    "## Datenquader recherchieren\n",
    "Über den `Catalogue` Service kann mit der `cubes` Methode der gewünschte Quader-Code recherchiert werden, der für den Download erforderlich ist.  \n",
    "Im folgenden Beispiel wird eine Liste der Quader aus der Preisstatistik (`61*`) angefordert."
   ]
  },
  {
   "cell_type": "code",
   "execution_count": 41,
   "metadata": {},
   "outputs": [],
   "source": [
    "responseCatalogue = requests.post(BASE_URL + 'catalogue/cubes',\n",
    "    headers = headers,\n",
    "    data = {\n",
    "    'selection': '61*',\n",
    "    'pagelength': 250,\n",
    "    'language': langPref\n",
    "    })"
   ]
  },
  {
   "cell_type": "code",
   "execution_count": 42,
   "metadata": {},
   "outputs": [
    {
     "data": {
      "text/plain": [
       "247"
      ]
     },
     "execution_count": 42,
     "metadata": {},
     "output_type": "execute_result"
    }
   ],
   "source": [
    "cubeList = responseCatalogue.json()[\"List\"]\n",
    "len(cubeList)"
   ]
  },
  {
   "cell_type": "markdown",
   "metadata": {},
   "source": [
    "Der Übersichtlichkeit halber filtern wir die 247 Einträge umfassende Liste mit der Suche nach spezifischen Inhalten"
   ]
  },
  {
   "cell_type": "code",
   "execution_count": 43,
   "metadata": {},
   "outputs": [
    {
     "data": {
      "text/plain": [
       "[{'Code': '61221BJ001',\n",
       "  'Content': 'Index der Einkaufspreise landwirt. Betriebsmittel, Index der Einkaufspreise landwirt. Betriebsmittel, Deutschland insgesamt, Landwirtschaftliche Betriebsmittel, Jahr',\n",
       "  'State': 'vollständig mit Werten',\n",
       "  'Time': '1961-2024',\n",
       "  'LatestUpdate': '12.12.2024 08:01:02h',\n",
       "  'Information': 'false'},\n",
       " {'Code': '61221BJ002',\n",
       "  'Content': 'Index der Einkaufspreise landwirt. Betriebsmittel, Index der Einkaufspreise landwirt. Betriebsmittel, Deutschland insgesamt, Landwirtschaftliche Betriebsmittel, Wirtschaftsjahr',\n",
       "  'State': 'vollständig mit Werten',\n",
       "  'Time': '1938/39-2023/24',\n",
       "  'LatestUpdate': '12.09.2024 08:01:01h',\n",
       "  'Information': 'false'},\n",
       " {'Code': '61221BM001',\n",
       "  'Content': 'Index der Einkaufspreise landwirt. Betriebsmittel, Index der Einkaufspreise landwirt. Betriebsmittel, Deutschland insgesamt, Landwirtschaftliche Betriebsmittel, Stichmonat',\n",
       "  'State': 'vollständig mit Werten',\n",
       "  'Time': '01/1968-01/2025',\n",
       "  'LatestUpdate': '13.03.2025 18:05:42h',\n",
       "  'Information': 'false'}]"
      ]
     },
     "execution_count": 43,
     "metadata": {},
     "output_type": "execute_result"
    }
   ],
   "source": [
    "[x for x in cubeList if \"Betriebsmittel\" in x[\"Content\"]]"
   ]
  },
  {
   "cell_type": "markdown",
   "metadata": {},
   "source": [
    "### Datenquader herunterladen"
   ]
  },
  {
   "cell_type": "code",
   "execution_count": 44,
   "metadata": {},
   "outputs": [],
   "source": [
    "responseCube = requests.post(BASE_URL + 'data/cubefile',\n",
    "    headers = headers,\n",
    "    data = {\n",
    "    'name': '61221BJ002',\n",
    "    'language': langPref\n",
    "    })"
   ]
  },
  {
   "cell_type": "markdown",
   "metadata": {},
   "source": [
    "### Speichern der Datei"
   ]
  },
  {
   "cell_type": "code",
   "execution_count": 46,
   "metadata": {},
   "outputs": [],
   "source": [
    "with open(\"cube.txt\", \"wb\") as f:\n",
    "    f.write(responseCube.content)"
   ]
  }
 ],
 "metadata": {
  "kernelspec": {
   "display_name": "Python 3 (ipykernel)",
   "language": "python",
   "name": "python3"
  },
  "language_info": {
   "codemirror_mode": {
    "name": "ipython",
    "version": 3
   },
   "file_extension": ".py",
   "mimetype": "text/x-python",
   "name": "python",
   "nbconvert_exporter": "python",
   "pygments_lexer": "ipython3",
   "version": "3.13.2"
  }
 },
 "nbformat": 4,
 "nbformat_minor": 4
}
