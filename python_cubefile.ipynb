{
 "cells": [
  {
   "cell_type": "markdown",
   "id": "0fb0c0d2-34f6-42f5-8347-51b3134bde25",
   "metadata": {},
   "source": [
    "## GENESIS API: Changes as of July 15, 2025\n",
    "\n",
    "To improve the protection of your user data, the previously offered option of using the API via `GET` requests will be permanently deactivated on July 15, 2025. After this date, the GENESIS API will only be accessible using the `POST` method. The access data is sent in the header of the request and therefore cannot get into log files or be tapped during transport.\n",
    "To help you with the changeover, we show executable code examples that use the POST method, starting with the **Python** programming language and the **Pandas** statistics package."
   ]
  },
  {
   "cell_type": "code",
   "execution_count": 54,
   "id": "9e4387b8-61c0-4e6f-92c5-2df0d327eaaf",
   "metadata": {},
   "outputs": [],
   "source": [
    "import requests\n",
    "import pandas as pd\n",
    "import io\n",
    "import zipfile"
   ]
  },
  {
   "cell_type": "markdown",
   "id": "5cb03c8d-0f35-4cdd-bbf2-13a6f64116e7",
   "metadata": {},
   "source": [
    "We recommend using the **API token** to identify yourself to the web service. You will find this string in the [web service interface (API) menu](https://www-genesis.destatis.de/datenbank/online#modal=web-service-api) after logging in. It can be reset separately of your login data and therefore offers more control for shared projects, in training environments, etc. The token also does not contain any characters that may need to be masked and is therefore less prone to errors in use.\n",
    "However, no writing access is possible after identification with a token. This includes changing the password via API or a table retrieval that is written to a queue or batch due to its size `(job=true)`. Such writing accesses must be identified by user name/email and password. The program examples described here can be used for both types of identification.\n",
    "If you do not yet have access data for the GENESIS database, you can [register](https://www-genesis.destatis.de/datenbank/online#modal=register) easily and free of charge."
   ]
  },
  {
   "cell_type": "code",
   "execution_count": 66,
   "id": "5b4ad8e4-eddd-4196-a7eb-0db4dbaa757d",
   "metadata": {},
   "outputs": [],
   "source": [
    "BASE_URL = 'https://www-genesis.destatis.de/genesisWS/rest/2020/'\n",
    "\n",
    "TOKEN = \"58b3_IHREN_TOKEN_EINFÜGEN_e6d032\""
   ]
  },
  {
   "cell_type": "markdown",
   "id": "44f52203-d0bc-47dc-8e60-085a306dbd49",
   "metadata": {},
   "source": [
    "Regardless of the type of access data used, these must be transmitted in the request header of a POST request with the `‘Content-Type’: ‘application/x-www-form-urlencoded’`."
   ]
  },
  {
   "cell_type": "code",
   "execution_count": 5,
   "id": "699ff4c3-8a34-411c-adaf-64e1ba3533d8",
   "metadata": {
    "editable": true,
    "slideshow": {
     "slide_type": ""
    },
    "tags": []
   },
   "outputs": [],
   "source": [
    "headers = {\n",
    "    'Content-Type': 'application/x-www-form-urlencoded',\n",
    "    'username': TOKEN,\n",
    "    'password': \"\"\n",
    "    }\n",
    "\n",
    "langPref = \"de\""
   ]
  },
  {
   "cell_type": "markdown",
   "id": "a674ae16-50c2-46ae-818b-d21484906ae1",
   "metadata": {},
   "source": [
    "## Research data cubes\n",
    "The desired cube name required for the download can be researched using the `cubes` method via the `catalogue` service.  \n",
    "In the following example, a list of cubes from the price statistics (`61*`) is requested."
   ]
  },
  {
   "cell_type": "code",
   "execution_count": 41,
   "id": "09018ceb-e5ce-4098-ad6f-5d5bcf9f70e7",
   "metadata": {},
   "outputs": [],
   "source": [
    "responseCatalogue = requests.post(BASE_URL + 'catalogue/cubes',\n",
    "    headers = headers,\n",
    "    data = {\n",
    "    'selection': '61*',\n",
    "    'pagelength': 250,\n",
    "    'language': langPref\n",
    "    })"
   ]
  },
  {
   "cell_type": "code",
   "execution_count": 42,
   "id": "4cea0f0c-f30e-42f0-9d5f-ade360ff8df5",
   "metadata": {},
   "outputs": [
    {
     "data": {
      "text/plain": [
       "247"
      ]
     },
     "execution_count": 42,
     "metadata": {},
     "output_type": "execute_result"
    }
   ],
   "source": [
    "cubeList = responseCatalogue.json()[\"List\"]\n",
    "len(cubeList)"
   ]
  },
  {
   "cell_type": "markdown",
   "id": "bea9d47c-ba05-451b-ae10-f4fd47655045",
   "metadata": {},
   "source": [
    "For clarity, we filter the list of 247 entries by searching for specific content"
   ]
  },
  {
   "cell_type": "code",
   "execution_count": 43,
   "id": "e44eafd8-86ab-4e87-83c7-5d470deaf0aa",
   "metadata": {},
   "outputs": [
    {
     "data": {
      "text/plain": [
       "[{'Code': '61221BJ001',\n",
       "  'Content': 'Index der Einkaufspreise landwirt. Betriebsmittel, Index der Einkaufspreise landwirt. Betriebsmittel, Deutschland insgesamt, Landwirtschaftliche Betriebsmittel, Jahr',\n",
       "  'State': 'vollständig mit Werten',\n",
       "  'Time': '1961-2024',\n",
       "  'LatestUpdate': '12.12.2024 08:01:02h',\n",
       "  'Information': 'false'},\n",
       " {'Code': '61221BJ002',\n",
       "  'Content': 'Index der Einkaufspreise landwirt. Betriebsmittel, Index der Einkaufspreise landwirt. Betriebsmittel, Deutschland insgesamt, Landwirtschaftliche Betriebsmittel, Wirtschaftsjahr',\n",
       "  'State': 'vollständig mit Werten',\n",
       "  'Time': '1938/39-2023/24',\n",
       "  'LatestUpdate': '12.09.2024 08:01:01h',\n",
       "  'Information': 'false'},\n",
       " {'Code': '61221BM001',\n",
       "  'Content': 'Index der Einkaufspreise landwirt. Betriebsmittel, Index der Einkaufspreise landwirt. Betriebsmittel, Deutschland insgesamt, Landwirtschaftliche Betriebsmittel, Stichmonat',\n",
       "  'State': 'vollständig mit Werten',\n",
       "  'Time': '01/1968-01/2025',\n",
       "  'LatestUpdate': '13.03.2025 18:05:42h',\n",
       "  'Information': 'false'}]"
      ]
     },
     "execution_count": 43,
     "metadata": {},
     "output_type": "execute_result"
    }
   ],
   "source": [
    "[x for x in cubeList if \"Betriebsmittel\" in x[\"Content\"]]"
   ]
  },
  {
   "cell_type": "markdown",
   "id": "08aa8524-f741-4ec1-9083-926ae34d0d7f",
   "metadata": {},
   "source": [
    "### Download data cube"
   ]
  },
  {
   "cell_type": "code",
   "execution_count": 44,
   "id": "3b5728e9-9c7b-4b9a-af86-229693dbad58",
   "metadata": {},
   "outputs": [],
   "source": [
    "responseCube = requests.post(BASE_URL + 'data/cubefile',\n",
    "    headers = headers,\n",
    "    data = {\n",
    "    'name': '61221BJ002',\n",
    "    'language': langPref\n",
    "    })"
   ]
  },
  {
   "cell_type": "markdown",
   "id": "55f926cd-44cd-45e0-93d5-0891fcd77ea2",
   "metadata": {},
   "source": [
    "### Saving the file"
   ]
  },
  {
   "cell_type": "code",
   "execution_count": 46,
   "id": "f3fb1cb7-d9d0-4f41-8790-f74a9ce009ad",
   "metadata": {},
   "outputs": [],
   "source": [
    "with open(\"cube.txt\", \"wb\") as f:\n",
    "    f.write(responseCube.content)"
   ]
  }
 ],
 "metadata": {
  "kernelspec": {
   "display_name": "destatis",
   "language": "python",
   "name": "destatis"
  },
  "language_info": {
   "codemirror_mode": {
    "name": "ipython",
    "version": 3
   },
   "file_extension": ".py",
   "mimetype": "text/x-python",
   "name": "python",
   "nbconvert_exporter": "python",
   "pygments_lexer": "ipython3",
   "version": "3.11.11"
  }
 },
 "nbformat": 4,
 "nbformat_minor": 5
}
