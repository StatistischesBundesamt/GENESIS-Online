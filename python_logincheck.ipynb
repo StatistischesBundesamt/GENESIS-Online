{
 "cells": [
  {
   "cell_type": "markdown",
   "id": "ce6df698-c999-4b70-8cde-dfe50d4e8e30",
   "metadata": {},
   "source": [
    "## GENESIS API: Changes as of July 15, 2025\n",
    "\n",
    "To improve the protection of your user data, the previously offered option of using the API via `GET` requests will be permanently deactivated on July 15, 2025. After this date, the GENESIS API will only be accessible using the `POST` method. The access data is sent in the header of the request and therefore cannot get into log files or be tapped during transport.\n",
    "To help you with the changeover, we show executable code examples that use the POST method, starting with the **Python** programming language and the **Pandas** statistics package."
   ]
  },
  {
   "cell_type": "code",
   "execution_count": 54,
   "id": "3837e0c6-9523-4913-b1c9-ecfa053b06c7",
   "metadata": {},
   "outputs": [],
   "source": [
    "import requests\n",
    "import pandas as pd\n",
    "import io\n",
    "import zipfile"
   ]
  },
  {
   "cell_type": "markdown",
   "id": "aa2ac734-4a5b-4020-852a-504506947c65",
   "metadata": {},
   "source": [
    "We recommend using the **API token** to identify yourself to the web service. You will find this string in the [web service interface (API) menu](https://www-genesis.destatis.de/datenbank/online#modal=web-service-api) after logging in. It can be reset separately of your login data and therefore offers more control for shared projects, in training environments, etc. The token also does not contain any characters that may need to be masked and is therefore less prone to errors in use.\n",
    "However, no writing access is possible after identification with a token. This includes changing the password via API or a table retrieval that is written to a queue or batch due to its size `(job=true)`. Such writing accesses must be identified by user name/email and password. The program examples described here can be used for both types of identification.\n",
    "If you do not yet have access data for the GENESIS database, you can [register](https://www-genesis.destatis.de/datenbank/online#modal=register) easily and free of charge."
   ]
  },
  {
   "cell_type": "code",
   "execution_count": 66,
   "id": "88f5eead-f408-4acc-a0c8-c690c42e999d",
   "metadata": {},
   "outputs": [],
   "source": [
    "BASE_URL = 'https://www-genesis.destatis.de/genesisWS/rest/2020/'\n",
    "\n",
    "TOKEN = \"58b3_IHREN_TOKEN_EINFÜGEN_e6d032\""
   ]
  },
  {
   "cell_type": "markdown",
   "id": "68930a73-6620-4fc8-a8f9-38121540b537",
   "metadata": {},
   "source": [
    "Regardless of the type of access data used, these must be transmitted in the request header of a POST request with the `‘Content-Type’: ‘application/x-www-form-urlencoded’`."
   ]
  },
  {
   "cell_type": "code",
   "execution_count": 5,
   "id": "ccfacd93-9aae-44e4-8fac-6b458ec4bea3",
   "metadata": {
    "editable": true,
    "slideshow": {
     "slide_type": ""
    },
    "tags": []
   },
   "outputs": [],
   "source": [
    "headers = {\n",
    "    'Content-Type': 'application/x-www-form-urlencoded',\n",
    "    'username': TOKEN,\n",
    "    'password': \"\"\n",
    "    }\n",
    "\n",
    "langPref = \"de\""
   ]
  },
  {
   "cell_type": "markdown",
   "id": "be0a7746-4495-45c1-b899-5a2195a17c6b",
   "metadata": {},
   "source": [
    "### Test identification data and API availability\n",
    "\n",
    "It is helpful to first test the identification data and the connection to the API. This is also the simplest method, in which only the desired language (de|en) is passed as a parameter in addition to the identification."
   ]
  },
  {
   "cell_type": "code",
   "execution_count": 6,
   "id": "d27a1862-edb1-469c-8e9e-236b8cdb2ece",
   "metadata": {},
   "outputs": [],
   "source": [
    "hello = requests.post(BASE_URL + 'helloworld/logincheck', \n",
    "    headers = headers,\n",
    "    data = {\n",
    "    'language': langPref\n",
    "    })"
   ]
  },
  {
   "cell_type": "code",
   "execution_count": 69,
   "id": "511e7077-904b-4f7b-9f91-2fd313a0ad23",
   "metadata": {},
   "outputs": [
    {
     "data": {
      "text/plain": [
       "'{\"Status\":\"Sie wurden erfolgreich an- und abgemeldet! Bei mehr als 3 parallelen Requests wurden länger als 15 Minuten laufende Requests beendet.\",\"Username\"'"
      ]
     },
     "execution_count": 69,
     "metadata": {},
     "output_type": "execute_result"
    }
   ],
   "source": [
    "hello.text[:-36]"
   ]
  }
 ],
 "metadata": {
  "kernelspec": {
   "display_name": "destatis",
   "language": "python",
   "name": "destatis"
  },
  "language_info": {
   "codemirror_mode": {
    "name": "ipython",
    "version": 3
   },
   "file_extension": ".py",
   "mimetype": "text/x-python",
   "name": "python",
   "nbconvert_exporter": "python",
   "pygments_lexer": "ipython3",
   "version": "3.11.11"
  }
 },
 "nbformat": 4,
 "nbformat_minor": 5
}
