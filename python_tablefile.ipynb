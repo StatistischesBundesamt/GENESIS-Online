{
 "cells": [
  {
   "cell_type": "markdown",
   "id": "88363894-a0ea-4494-8973-ea3022ec7917",
   "metadata": {},
   "source": [
    "## GENESIS API: Changes as of June 30, 2025\n",
    "\n",
    "To improve the protection of your user data, the previously offered option of using the API via `GET` requests will be permanently deactivated on June 30, 2025. After this date, the GENESIS API will only be accessible using the `POST` method. The access data is sent in the header of the request and therefore cannot get into log files or be tapped during transport.\n",
    "To help you with the changeover, we show executable code examples that use the POST method, starting with the **Python** programming language and the **Pandas** statistics package."
   ]
  },
  {
   "cell_type": "code",
   "execution_count": 54,
   "id": "3bd789ac-f479-4985-8133-e590d14a444d",
   "metadata": {},
   "outputs": [],
   "source": [
    "import requests\n",
    "import pandas as pd\n",
    "import io\n",
    "import zipfile"
   ]
  },
  {
   "cell_type": "markdown",
   "id": "d5a50dcd-564b-47a9-921a-df2a96bc3e19",
   "metadata": {},
   "source": [
    "We recommend using the **API token** to identify yourself to the web service. You will find this string in the [web service interface (API) menu](https://www-genesis.destatis.de/datenbank/online#modal=web-service-api) after logging in. It can be reset separately of your login data and therefore offers more control for shared projects, in training environments, etc. The token also does not contain any characters that may need to be masked and is therefore less prone to errors in use.\n",
    "However, no writing access is possible after identification with a token. This includes changing the password via API or a table retrieval that is written to a queue or batch due to its size `(job=true)`. Such writing accesses must be identified by user name/email and password. The program examples described here can be used for both types of identification.\n",
    "If you do not yet have access data for the GENESIS database, you can [register](https://www-genesis.destatis.de/datenbank/online#modal=register) easily and free of charge."
   ]
  },
  {
   "cell_type": "code",
   "execution_count": 66,
   "id": "b7ed0d56-34d0-4e60-9a8b-6e25ae4fae63",
   "metadata": {},
   "outputs": [],
   "source": [
    "BASE_URL = 'https://www-genesis.destatis.de/genesisWS/rest/2020/'\n",
    "\n",
    "TOKEN = \"58b3_IHREN_TOKEN_EINFÜGEN_e6d032\""
   ]
  },
  {
   "cell_type": "markdown",
   "id": "94e4299d-ec6d-416f-9ec2-1729bc66e479",
   "metadata": {},
   "source": [
    "Regardless of the type of access data used, these must be transmitted in the request header of a POST request with the `‘Content-Type’: ‘application/x-www-form-urlencoded’`."
   ]
  },
  {
   "cell_type": "code",
   "execution_count": 5,
   "id": "ea6b4186-7129-4d93-ac55-e850ec59f9ef",
   "metadata": {
    "editable": true,
    "slideshow": {
     "slide_type": ""
    },
    "tags": []
   },
   "outputs": [],
   "source": [
    "headers = {\n",
    "    'Content-Type': 'application/x-www-form-urlencoded',\n",
    "    'username': TOKEN,\n",
    "    'password': \"\"\n",
    "    }\n",
    "\n",
    "langPref = \"de\""
   ]
  },
  {
   "attachments": {},
   "cell_type": "markdown",
   "id": "59a90abf-5d3d-4b38-864d-4b936dceb5d5",
   "metadata": {},
   "source": [
    "### Download a single table in Excel format\n",
    "As an example, Individual consumption by purpose, 5-digit codes (`CC13A5`) of the monthly consumer price index are to be retrieved, namely all those belonging to `CC13-071 Purchase of vehicles`.\n",
    "A documentation of the entire functional scope of the API can be found in the [textual interface description](https://www-genesis.destatis.de/datenbank/online/docs/GENESIS-Webservices_Introduction.pdf) (PDF, 899kB)"
   ]
  },
  {
   "cell_type": "code",
   "execution_count": 24,
   "id": "ade41ae4-f21e-4475-a04b-af847687dccf",
   "metadata": {},
   "outputs": [],
   "source": [
    "responseTable = requests.post(BASE_URL + 'data/tablefile',\n",
    "    headers = headers,\n",
    "    data = {\n",
    "    'name': '61111-0004',\n",
    "    'startyear': 2025,\n",
    "    'transpose': \"true\",\n",
    "    'classifyingvariable1': \"CC13A5\",\n",
    "    'classifyingkey1': \"CC13-071*\",\n",
    "    'compress': 'true',\n",
    "    'format': 'xlsx',\n",
    "    'language': langPref\n",
    "    })"
   ]
  },
  {
   "cell_type": "markdown",
   "id": "46ece1f9-403f-4b7b-a455-cc72c92cbac4",
   "metadata": {},
   "source": [
    "### Saving the file if the retrieval was successful"
   ]
  },
  {
   "cell_type": "code",
   "execution_count": 27,
   "id": "067c145c-3358-4dee-8b32-4086fb62088e",
   "metadata": {},
   "outputs": [],
   "source": [
    "if responseTable.status_code == 200:\n",
    "    with open(\"table.xlsx\", \"wb\") as f:\n",
    "        f.write(responseTable.content)\n",
    "else:\n",
    "    print(\"Antwort-Code: \"+(responseTable.status_code))"
   ]
  },
  {
   "cell_type": "markdown",
   "id": "ae6084cf-b38f-4e05-8b8e-a92291072e47",
   "metadata": {},
   "source": [
    "## Handling large tables\n",
    "Tables with more than 40,000 values (as of 24 March 2025) cannot be downloaded directly in dialog via API. Either the request must be sent to a queue (`job=true`) and retrieved later with `resultfile` or the request must be split.  \n",
    "The table breaking down the Individual consumption by purpose, 10-digit codes (`CC13Z1`) based on 2020 already exceeds this limit at the beginning of 2025:"
   ]
  },
  {
   "cell_type": "code",
   "execution_count": 47,
   "id": "845eec99-a8c3-48c7-889f-6a54b2faa0b2",
   "metadata": {},
   "outputs": [
    {
     "name": "stdout",
     "output_type": "stream",
     "text": [
      "{\"Ident\":{\"Service\":\"data\",\"Method\":\"tablefile\"},\"Status\":{\"Code\":98,\"Content\":\"Die Tabelle ist zu gross, um im Dialog a\n"
     ]
    }
   ],
   "source": [
    "response = requests.post(BASE_URL + 'data/tablefile',\n",
    "    headers = headers,\n",
    "    data = {\n",
    "    'name': '61111-0006',\n",
    "    'startyear': 2020,\n",
    "    \"classifyingvariable1\": \"CC13Z1\",\n",
    "    'compress': 'true',\n",
    "    'format': 'ffcsv',\n",
    "    'language': langPref\n",
    "})\n",
    "# check whether the answer is text, binary or empty\n",
    "print(response.text[0:120])"
   ]
  },
  {
   "cell_type": "markdown",
   "id": "3514c348-dc99-40f0-b986-21b113e5a992",
   "metadata": {},
   "source": [
    "#### Split into two table retrievals along the time axis\n",
    "The flat file csv format (`ffcsv`) is the method of choice for further processing in **Pandas**. These files can simply be merged one after the other. In many cases, the number of lines corresponds to the number of values. In the following example, the values for January 2020 to December 2023 are retrieved first, followed by the current margin (January 2024 and later)."
   ]
  },
  {
   "cell_type": "code",
   "execution_count": null,
   "id": "6d13f75f-66da-45e7-b9f5-500af4b7bc9c",
   "metadata": {},
   "outputs": [],
   "source": [
    "response1 = requests.post(BASE_URL + 'data/tablefile',\n",
    "    headers = headers,\n",
    "    data = {\n",
    "    'name': '61111-0006',\n",
    "    'startyear': 2020,\n",
    "    'endyear': 2023,\n",
    "    \"classifyingvariable1\": \"CC13Z1\",\n",
    "    'compress': 'true',\n",
    "    'format': 'ffcsv',\n",
    "    'language': langPref\n",
    "})"
   ]
  },
  {
   "cell_type": "code",
   "execution_count": null,
   "id": "f2000d4c-3776-464a-8a34-79673aedafaf",
   "metadata": {},
   "outputs": [],
   "source": [
    "response2 = requests.post(BASE_URL + 'data/tablefile',\n",
    "    headers = headers,\n",
    "    data = {\n",
    "    'name': '61111-0006',\n",
    "    'startyear': 2024,\n",
    "    \"classifyingvariable1\": \"CC13Z1\",\n",
    "    'compress': 'true',\n",
    "    'format': 'ffcsv',\n",
    "    'language': langPref\n",
    "})"
   ]
  },
  {
   "cell_type": "markdown",
   "id": "35f6f5ea-4c8a-4819-8d52-345c96e363ad",
   "metadata": {},
   "source": [
    "#### Read zipped file response directly without saving\n",
    "GENESIS-Online delivers zipped csv and ffcsv files, whereby each ZIP archive contains exactly one csv file.  \n",
    "The direct processing from the working memory is shown here as an example:"
   ]
  },
  {
   "cell_type": "code",
   "execution_count": 57,
   "id": "5dfca868-ecec-4578-a65b-f5dfdc59698e",
   "metadata": {},
   "outputs": [],
   "source": [
    "def csvUnZip(response):\n",
    "    filebytes = io.BytesIO(response.content)\n",
    "    zipFile = zipfile.ZipFile(filebytes)\n",
    "    csvFile = zipFile.open(zipFile.namelist()[0])\n",
    "    return csvFile"
   ]
  },
  {
   "cell_type": "markdown",
   "id": "519bf3a3-afa9-4c50-bcf0-47aa1f2b147b",
   "metadata": {},
   "source": [
    "#### Parameters for importing the German-language version of the ffcsv files"
   ]
  },
  {
   "cell_type": "code",
   "execution_count": 58,
   "id": "e3e86a42-b0cc-4064-9a54-87153173b2d6",
   "metadata": {},
   "outputs": [],
   "source": [
    "def readCsv(csvFile):\n",
    "    df = pd.read_csv(csvFile, delimiter=';', decimal=\",\", na_values=[\"...\",\".\",\"-\",\"/\",\"x\"])\n",
    "    return df"
   ]
  },
  {
   "cell_type": "markdown",
   "id": "15bd491f-bd97-4502-b3f4-6900688cf545",
   "metadata": {},
   "source": [
    "#### Merge the two tablefile responses"
   ]
  },
  {
   "cell_type": "code",
   "execution_count": 70,
   "id": "f78884ce-37d7-470d-849b-6ddcdbfb88c0",
   "metadata": {},
   "outputs": [
    {
     "data": {
      "text/html": [
       "<div>\n",
       "<style scoped>\n",
       "    .dataframe tbody tr th:only-of-type {\n",
       "        vertical-align: middle;\n",
       "    }\n",
       "\n",
       "    .dataframe tbody tr th {\n",
       "        vertical-align: top;\n",
       "    }\n",
       "\n",
       "    .dataframe thead th {\n",
       "        text-align: right;\n",
       "    }\n",
       "</style>\n",
       "<table border=\"1\" class=\"dataframe\">\n",
       "  <thead>\n",
       "    <tr style=\"text-align: right;\">\n",
       "      <th></th>\n",
       "      <th>statistics_label</th>\n",
       "      <th>time</th>\n",
       "      <th>1_variable_attribute_label</th>\n",
       "      <th>3_variable_attribute_label</th>\n",
       "      <th>value</th>\n",
       "    </tr>\n",
       "  </thead>\n",
       "  <tbody>\n",
       "    <tr>\n",
       "      <th>21299</th>\n",
       "      <td>Verbraucherpreisindex für Deutschland</td>\n",
       "      <td>2020</td>\n",
       "      <td>Januar</td>\n",
       "      <td>Reis</td>\n",
       "      <td>99.6</td>\n",
       "    </tr>\n",
       "    <tr>\n",
       "      <th>29259</th>\n",
       "      <td>Verbraucherpreisindex für Deutschland</td>\n",
       "      <td>2020</td>\n",
       "      <td>Januar</td>\n",
       "      <td>Reiszubereitung</td>\n",
       "      <td>100.0</td>\n",
       "    </tr>\n",
       "    <tr>\n",
       "      <th>5864</th>\n",
       "      <td>Verbraucherpreisindex für Deutschland</td>\n",
       "      <td>2020</td>\n",
       "      <td>Januar</td>\n",
       "      <td>Weizenmehl</td>\n",
       "      <td>100.9</td>\n",
       "    </tr>\n",
       "    <tr>\n",
       "      <th>15401</th>\n",
       "      <td>Verbraucherpreisindex für Deutschland</td>\n",
       "      <td>2020</td>\n",
       "      <td>Januar</td>\n",
       "      <td>Grieß, Roggenmehl oder Ähnliches</td>\n",
       "      <td>101.3</td>\n",
       "    </tr>\n",
       "    <tr>\n",
       "      <th>1352</th>\n",
       "      <td>Verbraucherpreisindex für Deutschland</td>\n",
       "      <td>2020</td>\n",
       "      <td>Januar</td>\n",
       "      <td>Weißbrot</td>\n",
       "      <td>101.0</td>\n",
       "    </tr>\n",
       "    <tr>\n",
       "      <th>...</th>\n",
       "      <td>...</td>\n",
       "      <td>...</td>\n",
       "      <td>...</td>\n",
       "      <td>...</td>\n",
       "      <td>...</td>\n",
       "    </tr>\n",
       "    <tr>\n",
       "      <th>5042</th>\n",
       "      <td>Verbraucherpreisindex für Deutschland</td>\n",
       "      <td>2025</td>\n",
       "      <td>Februar</td>\n",
       "      <td>Passgebühr oder Ähnliches</td>\n",
       "      <td>120.7</td>\n",
       "    </tr>\n",
       "    <tr>\n",
       "      <th>4515</th>\n",
       "      <td>Verbraucherpreisindex für Deutschland</td>\n",
       "      <td>2025</td>\n",
       "      <td>Februar</td>\n",
       "      <td>Rechtsanwaltsgebühr oder Notargebühr</td>\n",
       "      <td>117.4</td>\n",
       "    </tr>\n",
       "    <tr>\n",
       "      <th>3584</th>\n",
       "      <td>Verbraucherpreisindex für Deutschland</td>\n",
       "      <td>2025</td>\n",
       "      <td>Februar</td>\n",
       "      <td>Bestattungsleistungen und Friedhofsgebühr</td>\n",
       "      <td>120.8</td>\n",
       "    </tr>\n",
       "    <tr>\n",
       "      <th>1652</th>\n",
       "      <td>Verbraucherpreisindex für Deutschland</td>\n",
       "      <td>2025</td>\n",
       "      <td>Februar</td>\n",
       "      <td>Kleinanzeige in einer Zeitung</td>\n",
       "      <td>119.2</td>\n",
       "    </tr>\n",
       "    <tr>\n",
       "      <th>8143</th>\n",
       "      <td>Verbraucherpreisindex für Deutschland</td>\n",
       "      <td>2025</td>\n",
       "      <td>Februar</td>\n",
       "      <td>Kurtaxe</td>\n",
       "      <td>107.9</td>\n",
       "    </tr>\n",
       "  </tbody>\n",
       "</table>\n",
       "<p>42594 rows × 5 columns</p>\n",
       "</div>"
      ],
      "text/plain": [
       "                            statistics_label  time 1_variable_attribute_label  \\\n",
       "21299  Verbraucherpreisindex für Deutschland  2020                     Januar   \n",
       "29259  Verbraucherpreisindex für Deutschland  2020                     Januar   \n",
       "5864   Verbraucherpreisindex für Deutschland  2020                     Januar   \n",
       "15401  Verbraucherpreisindex für Deutschland  2020                     Januar   \n",
       "1352   Verbraucherpreisindex für Deutschland  2020                     Januar   \n",
       "...                                      ...   ...                        ...   \n",
       "5042   Verbraucherpreisindex für Deutschland  2025                    Februar   \n",
       "4515   Verbraucherpreisindex für Deutschland  2025                    Februar   \n",
       "3584   Verbraucherpreisindex für Deutschland  2025                    Februar   \n",
       "1652   Verbraucherpreisindex für Deutschland  2025                    Februar   \n",
       "8143   Verbraucherpreisindex für Deutschland  2025                    Februar   \n",
       "\n",
       "                      3_variable_attribute_label  value  \n",
       "21299                                       Reis   99.6  \n",
       "29259                            Reiszubereitung  100.0  \n",
       "5864                                  Weizenmehl  100.9  \n",
       "15401           Grieß, Roggenmehl oder Ähnliches  101.3  \n",
       "1352                                    Weißbrot  101.0  \n",
       "...                                          ...    ...  \n",
       "5042                   Passgebühr oder Ähnliches  120.7  \n",
       "4515        Rechtsanwaltsgebühr oder Notargebühr  117.4  \n",
       "3584   Bestattungsleistungen und Friedhofsgebühr  120.8  \n",
       "1652               Kleinanzeige in einer Zeitung  119.2  \n",
       "8143                                     Kurtaxe  107.9  \n",
       "\n",
       "[42594 rows x 5 columns]"
      ]
     },
     "execution_count": 70,
     "metadata": {},
     "output_type": "execute_result"
    }
   ],
   "source": [
    "df_combined = pd.concat([readCsv(csvUnZip(response1)),readCsv(csvUnZip(response2))])\\\n",
    "                .sort_values(by=[\"time\",\"1_variable_attribute_code\",\"3_variable_attribute_code\"])\n",
    "\n",
    "df_combined[[\"statistics_label\",\"time\",\"1_variable_attribute_label\",\"3_variable_attribute_label\",\"value\"]]"
   ]
  },
  {
   "cell_type": "markdown",
   "id": "d599a839-8175-4847-a9b8-7138cf696dfe",
   "metadata": {},
   "source": [
    "### Create and retrieve batch job\n",
    "For very large tables, retrieval via a queue (batch) is required. To do this, call `data/tablefile` with the parameter `job=true`. \n",
    "After a few minutes, the processing status of the requested results table can be found via `catalogue/results` and finally downloaded with `data/resultfile`."
   ]
  }
 ],
 "metadata": {
  "kernelspec": {
   "display_name": "destatis",
   "language": "python",
   "name": "destatis"
  },
  "language_info": {
   "codemirror_mode": {
    "name": "ipython",
    "version": 3
   },
   "file_extension": ".py",
   "mimetype": "text/x-python",
   "name": "python",
   "nbconvert_exporter": "python",
   "pygments_lexer": "ipython3",
   "version": "3.11.11"
  }
 },
 "nbformat": 4,
 "nbformat_minor": 5
}
