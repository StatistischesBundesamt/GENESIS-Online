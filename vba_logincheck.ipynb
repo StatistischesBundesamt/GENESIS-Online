{
 "cells": [
  {
   "cell_type": "markdown",
   "id": "458ac422-fb4a-47bd-b6f0-af4ef3c2c6cb",
   "metadata": {},
   "source": [
    "## GENESIS API: Changes as of June 30, 2025\n",
    "\n",
    "To improve the protection of your user data, the previously offered option of using the API via `GET` requests will be permanently deactivated on June 30, 2025. After this date, the GENESIS API will only be accessible using the `POST` method. The access data is sent in the header of the request and therefore cannot get into log files or be tapped during transport.\n",
    "To help you with the changeover, we show executable VBA code with which you can continue to use the GENESIS API in Excel macros. "
   ]
  },
  {
   "cell_type": "markdown",
   "id": "4f5f4c27-8161-4cfc-91c4-0b9e2fb05b3e",
   "metadata": {},
   "source": [
    "We recommend using the **API token** to identify yourself to the web service. You will find this string in the [web service interface (API) menu](https://www-genesis.destatis.de/datenbank/online#modal=web-service-api) after logging in. It can be reset separately of your login data and therefore offers more control for shared projects, in training environments, etc. The token also does not contain any characters that may need to be masked and is therefore less prone to errors in use.\n",
    "However, no writing access is possible after identification with a token. This includes changing the password via API or a table retrieval that is written to a queue or batch due to its size `(job=true)`. Such writing accesses must be identified by user name/email and password. The program examples described here can be used for both types of identification.\n",
    "If you do not yet have access data for the GENESIS database, you can [register](https://www-genesis.destatis.de/datenbank/online#modal=register) easily and free of charge."
   ]
  },
  {
   "cell_type": "markdown",
   "id": "6809ac32-9e53-4ba1-9e17-aec1d9903f3e",
   "metadata": {},
   "source": [
    "Regardless of the type of access data used, these must be transmitted in the request header of a POST request with the `‘Content-Type’: ‘application/x-www-form-urlencoded’`."
   ]
  },
  {
   "cell_type": "markdown",
   "id": "8e269124-e15e-419f-ba49-a03ba90a0d44",
   "metadata": {},
   "source": [
    "### Test identification data and API availability\n",
    "\n",
    "It is helpful to first test the identification data and the connection to the API. This is also the simplest method, in which only the desired language (de|en) is passed as a parameter in addition to the identification."
   ]
  },
  {
   "cell_type": "code",
   "execution_count": null,
   "id": "863fa3b9-3f13-44e5-aed0-4ced3fe1b6d3",
   "metadata": {},
   "outputs": [],
   "source": [
    "Sub loginCheck()\n",
    "\n",
    "    Dim objXmlHttpReq As Object\n",
    "    Set objXmlHttpReq = CreateObject(\"Microsoft.XMLHTTP\")\n",
    "    \n",
    "    base_url = \"https://www-genesis.destatis.de/genesisWS/rest/2020/helloworld/logincheck\"\n",
    "    \n",
    "    Body = \"language=en\"\n",
    "    \n",
    "    objXmlHttpReq.Open \"POST\", base_url, False\n",
    "    \n",
    "    objXmlHttpReq.SetRequestHeader \"Content-Type\", \"application/x-www-form-urlencoded\"\n",
    "    objXmlHttpReq.SetRequestHeader \"username\", \"e9e5_YOUR_TOKEN_HERE_937\"\n",
    "    objXmlHttpReq.SetRequestHeader \"password\", \"\"\n",
    "    \n",
    "    objXmlHttpReq.Send Body\n",
    "    \n",
    "    MsgBox (objXmlHttpReq.responseText)\n",
    "     \n",
    "End Sub"
   ]
  }
 ],
 "metadata": {
  "kernelspec": {
   "display_name": "destatis",
   "language": "python",
   "name": "destatis"
  },
  "language_info": {
   "codemirror_mode": {
    "name": "ipython",
    "version": 3
   },
   "file_extension": ".py",
   "mimetype": "text/x-python",
   "name": "python",
   "nbconvert_exporter": "python",
   "pygments_lexer": "ipython3",
   "version": "3.11.11"
  }
 },
 "nbformat": 4,
 "nbformat_minor": 5
}
